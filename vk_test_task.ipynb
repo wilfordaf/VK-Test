{
  "cells": [
    {
      "cell_type": "markdown",
      "source": [
        "# Тестовое задание для VK\n",
        "\n",
        "Для данного задания предлагается использовать полный датасет [MovieLens](https://grouplens.org/datasets/movielens/latest/).\n",
        "\n",
        "Необходимо построить векторные представления (эмбеддинги) пользователей и\n",
        "фильмов используя нейросетевые подходы, чтобы можно было по эмбеддингу\n",
        "пользователя искать похожие эмбеддинги фильмов и рекомендовать ему их.\n",
        "При выполнении задания обратите внимание на:\n",
        "1. Разбиение данных на обучение и валидацию, обоснование\n",
        "2. Выбор и обоснование метрики\n",
        "3. Разработка архитектуры нейронной сети с пояснениями\n",
        "4. Обучение и валидация\n",
        "5. Решение должно быть воспроизводимым, в формате Jupyter Notebook (Google Colab\n",
        "/ файл на Github) с подробными пояснениями на каждом шаге"
      ],
      "metadata": {
        "id": "8scdP9kJhQZk"
      }
    },
    {
      "cell_type": "markdown",
      "source": [
        "## Обработка данных"
      ],
      "metadata": {
        "id": "9sqGeB_GhpN_"
      }
    },
    {
      "cell_type": "markdown",
      "source": [
        "### Импортируем необходимые библиотки для работы с данными "
      ],
      "metadata": {
        "id": "uLYu2orhhu9_"
      }
    },
    {
      "cell_type": "code",
      "execution_count": null,
      "metadata": {
        "collapsed": true,
        "id": "qEvPoyn_hMUn"
      },
      "outputs": [],
      "source": [
        "import pandas as pd\n",
        "import numpy as np\n",
        "import matplotlib.pyplot as plt\n",
        "import warnings\n",
        "\n",
        "from sklearn.preprocessing import MinMaxScaler\n",
        "\n",
        "%matplotlib inline\n",
        "warnings.filterwarnings('ignore')"
      ]
    },
    {
      "cell_type": "markdown",
      "source": [
        "### Скачиваем и считываем данные в таблицы pandas."
      ],
      "metadata": {
        "id": "H45ejyY-h0Oj"
      }
    },
    {
      "cell_type": "code",
      "source": [
        "!gdown 1T01W_PI1ijJGuWIIAGFdpkh9IYF8Xbso\n",
        "!gdown 1gqbp5LXuIyZHdHcY8SQVdO6AfqTRY9vt"
      ],
      "metadata": {
        "id": "HZzPVtG5FTIS"
      },
      "execution_count": null,
      "outputs": []
    },
    {
      "cell_type": "code",
      "execution_count": null,
      "metadata": {
        "id": "ogmaqmAbhMUq"
      },
      "outputs": [],
      "source": [
        "ratings = pd.read_csv(\"ratings.csv\")\n",
        "movies = pd.read_csv(\"movies.csv\")"
      ]
    },
    {
      "cell_type": "markdown",
      "source": [
        "### Посмотрим объём имеющихся данных"
      ],
      "metadata": {
        "id": "SSs7jLfwiEJM"
      }
    },
    {
      "cell_type": "code",
      "execution_count": null,
      "metadata": {
        "id": "XzRmYvqohMUq",
        "outputId": "4b14c994-67d6-47e8-ec5d-521460585e0c"
      },
      "outputs": [
        {
          "name": "stdout",
          "output_type": "stream",
          "text": [
            "ratings shape is (27753444, 4)\n",
            "movies shape is (58098, 3)\n"
          ]
        }
      ],
      "source": [
        "print(f\"ratings shape is {ratings.shape}\")\n",
        "print(f\"movies shape is {movies.shape}\")"
      ]
    },
    {
      "cell_type": "markdown",
      "source": [
        "### Удалим ненужную информацию о времени оценки "
      ],
      "metadata": {
        "id": "HGnd9_KoiLjt"
      }
    },
    {
      "cell_type": "code",
      "execution_count": null,
      "outputs": [
        {
          "data": {
            "text/plain": "   userId  movieId  rating\n0       1      307     3.5\n1       1      481     3.5\n2       1     1091     1.5",
            "text/html": "<div>\n<style scoped>\n    .dataframe tbody tr th:only-of-type {\n        vertical-align: middle;\n    }\n\n    .dataframe tbody tr th {\n        vertical-align: top;\n    }\n\n    .dataframe thead th {\n        text-align: right;\n    }\n</style>\n<table border=\"1\" class=\"dataframe\">\n  <thead>\n    <tr style=\"text-align: right;\">\n      <th></th>\n      <th>userId</th>\n      <th>movieId</th>\n      <th>rating</th>\n    </tr>\n  </thead>\n  <tbody>\n    <tr>\n      <th>0</th>\n      <td>1</td>\n      <td>307</td>\n      <td>3.5</td>\n    </tr>\n    <tr>\n      <th>1</th>\n      <td>1</td>\n      <td>481</td>\n      <td>3.5</td>\n    </tr>\n    <tr>\n      <th>2</th>\n      <td>1</td>\n      <td>1091</td>\n      <td>1.5</td>\n    </tr>\n  </tbody>\n</table>\n</div>"
          },
          "execution_count": 4,
          "metadata": {},
          "output_type": "execute_result"
        }
      ],
      "source": [
        "ratings.drop(columns=[\"timestamp\"], inplace=True)\n",
        "ratings.head(3)"
      ],
      "metadata": {
        "id": "MIZKDVz8hMUr",
        "outputId": "3dbc8f87-c75f-4883-edf8-5d70c04c1dd3"
      }
    },
    {
      "cell_type": "markdown",
      "source": [
        "### Определим все имеющиеся жанры\n",
        "Фильмы с (no genres listed) не будем относить ни к одному жанру. Другой подход был удалить такие объекты из выборки, но я решил так не поступать, т.к. таких фильмов относительно много, и они оценены. "
      ],
      "metadata": {
        "id": "8BfnAW6wieTr"
      }
    },
    {
      "cell_type": "code",
      "execution_count": null,
      "outputs": [
        {
          "data": {
            "text/plain": "array(['Action', 'Adventure', 'Animation', 'Children', 'Comedy', 'Crime',\n       'Documentary', 'Drama', 'Fantasy', 'Film-Noir', 'Horror', 'IMAX',\n       'Musical', 'Mystery', 'Romance', 'Sci-Fi', 'Thriller', 'War',\n       'Western'], dtype='<U18')"
          },
          "execution_count": 5,
          "metadata": {},
          "output_type": "execute_result"
        }
      ],
      "source": [
        "genres_list = [genre.split('|') for genre in movies.genres]\n",
        "unique_genres = np.unique(np.concatenate(genres_list))\n",
        "unique_genres = unique_genres[unique_genres != \"(no genres listed)\"]\n",
        "\n",
        "unique_genres"
      ],
      "metadata": {
        "id": "l_BPn3IGhMUr",
        "outputId": "a890e4ca-20b6-4d1e-fe8f-bd0dd1e28ad3"
      }
    },
    {
      "cell_type": "markdown",
      "source": [
        "### Используем One-Hot-Encoding на жанры фильмов\n",
        "Реализовал вручную, т.к. с (no genres listed) неудобно использовать встроенный, например, в Scikit-Learn. "
      ],
      "metadata": {
        "id": "Q6vVmF9li39N"
      }
    },
    {
      "cell_type": "code",
      "execution_count": null,
      "outputs": [],
      "source": [
        "movie_genres_dict = {}\n",
        "for movie in movies.values:\n",
        "    genre_encodings = {genre : 0 for genre in unique_genres}\n",
        "    number, title, genres = movie\n",
        "    genres_list = [genre for genre in genres.split('|')]\n",
        "    for genre in genres_list:\n",
        "        if genre == \"(no genres listed)\":\n",
        "            break\n",
        "\n",
        "        genre_encodings[genre] += 1\n",
        "\n",
        "    movie_genres_dict[number] = genre_encodings"
      ],
      "metadata": {
        "id": "bocRJZd5hMUs"
      }
    },
    {
      "cell_type": "markdown",
      "source": [
        "### Считаем общее количество оценок каждого фильма и объединяем полученное в таблицу "
      ],
      "metadata": {
        "id": "Vs2HrjZVjLlA"
      }
    },
    {
      "cell_type": "code",
      "execution_count": null,
      "outputs": [
        {
          "data": {
            "text/plain": "   movieId  Action  Adventure  Animation  Children  Comedy  Crime   \n0        1       0          1          1         1       1      0  \\\n1        2       0          1          0         1       0      0   \n2        3       0          0          0         0       1      0   \n\n   Documentary  Drama  Fantasy  ...  Horror  IMAX  Musical  Mystery  Romance   \n0            0      0        1  ...       0     0        0        0        0  \\\n1            0      0        1  ...       0     0        0        0        0   \n2            0      0        0  ...       0     0        0        0        1   \n\n   Sci-Fi  Thriller  War  Western  num_ratings  \n0       0         0    0        0      68469.0  \n1       0         0    0        0      27143.0  \n2       0         0    0        0      15585.0  \n\n[3 rows x 21 columns]",
            "text/html": "<div>\n<style scoped>\n    .dataframe tbody tr th:only-of-type {\n        vertical-align: middle;\n    }\n\n    .dataframe tbody tr th {\n        vertical-align: top;\n    }\n\n    .dataframe thead th {\n        text-align: right;\n    }\n</style>\n<table border=\"1\" class=\"dataframe\">\n  <thead>\n    <tr style=\"text-align: right;\">\n      <th></th>\n      <th>movieId</th>\n      <th>Action</th>\n      <th>Adventure</th>\n      <th>Animation</th>\n      <th>Children</th>\n      <th>Comedy</th>\n      <th>Crime</th>\n      <th>Documentary</th>\n      <th>Drama</th>\n      <th>Fantasy</th>\n      <th>...</th>\n      <th>Horror</th>\n      <th>IMAX</th>\n      <th>Musical</th>\n      <th>Mystery</th>\n      <th>Romance</th>\n      <th>Sci-Fi</th>\n      <th>Thriller</th>\n      <th>War</th>\n      <th>Western</th>\n      <th>num_ratings</th>\n    </tr>\n  </thead>\n  <tbody>\n    <tr>\n      <th>0</th>\n      <td>1</td>\n      <td>0</td>\n      <td>1</td>\n      <td>1</td>\n      <td>1</td>\n      <td>1</td>\n      <td>0</td>\n      <td>0</td>\n      <td>0</td>\n      <td>1</td>\n      <td>...</td>\n      <td>0</td>\n      <td>0</td>\n      <td>0</td>\n      <td>0</td>\n      <td>0</td>\n      <td>0</td>\n      <td>0</td>\n      <td>0</td>\n      <td>0</td>\n      <td>68469.0</td>\n    </tr>\n    <tr>\n      <th>1</th>\n      <td>2</td>\n      <td>0</td>\n      <td>1</td>\n      <td>0</td>\n      <td>1</td>\n      <td>0</td>\n      <td>0</td>\n      <td>0</td>\n      <td>0</td>\n      <td>1</td>\n      <td>...</td>\n      <td>0</td>\n      <td>0</td>\n      <td>0</td>\n      <td>0</td>\n      <td>0</td>\n      <td>0</td>\n      <td>0</td>\n      <td>0</td>\n      <td>0</td>\n      <td>27143.0</td>\n    </tr>\n    <tr>\n      <th>2</th>\n      <td>3</td>\n      <td>0</td>\n      <td>0</td>\n      <td>0</td>\n      <td>0</td>\n      <td>1</td>\n      <td>0</td>\n      <td>0</td>\n      <td>0</td>\n      <td>0</td>\n      <td>...</td>\n      <td>0</td>\n      <td>0</td>\n      <td>0</td>\n      <td>0</td>\n      <td>1</td>\n      <td>0</td>\n      <td>0</td>\n      <td>0</td>\n      <td>0</td>\n      <td>15585.0</td>\n    </tr>\n  </tbody>\n</table>\n<p>3 rows × 21 columns</p>\n</div>"
          },
          "execution_count": 7,
          "metadata": {},
          "output_type": "execute_result"
        }
      ],
      "source": [
        "movie_genres = pd.DataFrame(movie_genres_dict).T\n",
        "movie_genres.reset_index(inplace=True, names=[\"movieId\"])\n",
        "\n",
        "num_ratings = ratings.groupby([\"movieId\"]).rating.count().astype(int)\n",
        "num_ratings.rename(\"num_ratings\", inplace=True)\n",
        "movie_genres = movie_genres.merge(num_ratings, how='left', left_on='movieId', right_index=True)\n",
        "\n",
        "movie_genres.head(3)"
      ],
      "metadata": {
        "id": "vDU9AZL1hMUs",
        "outputId": "5e0ae8f2-3daf-4fc9-a5f2-52df91dee741"
      }
    },
    {
      "cell_type": "markdown",
      "source": [
        "### Создаём общую таблицу с userId и оценками"
      ],
      "metadata": {
        "id": "W3fu_qdDjbBW"
      }
    },
    {
      "cell_type": "code",
      "execution_count": null,
      "outputs": [
        {
          "data": {
            "text/plain": "   movieId  Action  Adventure  Animation  Children  Comedy  Crime   \n0        1       0          1          1         1       1      0  \\\n1        1       0          1          1         1       1      0   \n2        1       0          1          1         1       1      0   \n\n   Documentary  Drama  Fantasy  ...  Musical  Mystery  Romance  Sci-Fi   \n0            0      0        1  ...        0        0        0       0  \\\n1            0      0        1  ...        0        0        0       0   \n2            0      0        1  ...        0        0        0       0   \n\n   Thriller  War  Western  num_ratings  userId  rating  \n0         0    0        0      68469.0       4     4.0  \n1         0    0        0      68469.0      10     5.0  \n2         0    0        0      68469.0      14     4.5  \n\n[3 rows x 23 columns]",
            "text/html": "<div>\n<style scoped>\n    .dataframe tbody tr th:only-of-type {\n        vertical-align: middle;\n    }\n\n    .dataframe tbody tr th {\n        vertical-align: top;\n    }\n\n    .dataframe thead th {\n        text-align: right;\n    }\n</style>\n<table border=\"1\" class=\"dataframe\">\n  <thead>\n    <tr style=\"text-align: right;\">\n      <th></th>\n      <th>movieId</th>\n      <th>Action</th>\n      <th>Adventure</th>\n      <th>Animation</th>\n      <th>Children</th>\n      <th>Comedy</th>\n      <th>Crime</th>\n      <th>Documentary</th>\n      <th>Drama</th>\n      <th>Fantasy</th>\n      <th>...</th>\n      <th>Musical</th>\n      <th>Mystery</th>\n      <th>Romance</th>\n      <th>Sci-Fi</th>\n      <th>Thriller</th>\n      <th>War</th>\n      <th>Western</th>\n      <th>num_ratings</th>\n      <th>userId</th>\n      <th>rating</th>\n    </tr>\n  </thead>\n  <tbody>\n    <tr>\n      <th>0</th>\n      <td>1</td>\n      <td>0</td>\n      <td>1</td>\n      <td>1</td>\n      <td>1</td>\n      <td>1</td>\n      <td>0</td>\n      <td>0</td>\n      <td>0</td>\n      <td>1</td>\n      <td>...</td>\n      <td>0</td>\n      <td>0</td>\n      <td>0</td>\n      <td>0</td>\n      <td>0</td>\n      <td>0</td>\n      <td>0</td>\n      <td>68469.0</td>\n      <td>4</td>\n      <td>4.0</td>\n    </tr>\n    <tr>\n      <th>1</th>\n      <td>1</td>\n      <td>0</td>\n      <td>1</td>\n      <td>1</td>\n      <td>1</td>\n      <td>1</td>\n      <td>0</td>\n      <td>0</td>\n      <td>0</td>\n      <td>1</td>\n      <td>...</td>\n      <td>0</td>\n      <td>0</td>\n      <td>0</td>\n      <td>0</td>\n      <td>0</td>\n      <td>0</td>\n      <td>0</td>\n      <td>68469.0</td>\n      <td>10</td>\n      <td>5.0</td>\n    </tr>\n    <tr>\n      <th>2</th>\n      <td>1</td>\n      <td>0</td>\n      <td>1</td>\n      <td>1</td>\n      <td>1</td>\n      <td>1</td>\n      <td>0</td>\n      <td>0</td>\n      <td>0</td>\n      <td>1</td>\n      <td>...</td>\n      <td>0</td>\n      <td>0</td>\n      <td>0</td>\n      <td>0</td>\n      <td>0</td>\n      <td>0</td>\n      <td>0</td>\n      <td>68469.0</td>\n      <td>14</td>\n      <td>4.5</td>\n    </tr>\n  </tbody>\n</table>\n<p>3 rows × 23 columns</p>\n</div>"
          },
          "execution_count": 8,
          "metadata": {},
          "output_type": "execute_result"
        }
      ],
      "source": [
        "movie_rating_genres = pd.merge(movie_genres, ratings, how=\"inner\", on=\"movieId\")\n",
        "\n",
        "movie_rating_genres.head(3)"
      ],
      "metadata": {
        "id": "TETpkd2whMUs",
        "outputId": "b21ab840-f6e9-488c-901f-027764e5a6d7"
      }
    },
    {
      "cell_type": "markdown",
      "source": [
        "### Используем MinMaxScaler на rating\n",
        "\n",
        "Т.к. выбросов в выборке замечено не было, нет противопоказаний для использования scaler. Также проводил эксперименты с его использованим на num_ratings, но без скалирования данной переменной модель показывает лучшие результаты."
      ],
      "metadata": {
        "id": "hF8cvy6Njimg"
      }
    },
    {
      "cell_type": "code",
      "execution_count": null,
      "outputs": [
        {
          "data": {
            "text/plain": "   movieId  Action  Adventure  Animation  Children  Comedy  Crime   \n0        1       0          1          1         1       1      0  \\\n1        1       0          1          1         1       1      0   \n2        1       0          1          1         1       1      0   \n\n   Documentary  Drama  Fantasy  ...  Musical  Mystery  Romance  Sci-Fi   \n0            0      0        1  ...        0        0        0       0  \\\n1            0      0        1  ...        0        0        0       0   \n2            0      0        1  ...        0        0        0       0   \n\n   Thriller  War  Western  num_ratings  userId    rating  \n0         0    0        0      68469.0       4  0.777778  \n1         0    0        0      68469.0      10  1.000000  \n2         0    0        0      68469.0      14  0.888889  \n\n[3 rows x 23 columns]",
            "text/html": "<div>\n<style scoped>\n    .dataframe tbody tr th:only-of-type {\n        vertical-align: middle;\n    }\n\n    .dataframe tbody tr th {\n        vertical-align: top;\n    }\n\n    .dataframe thead th {\n        text-align: right;\n    }\n</style>\n<table border=\"1\" class=\"dataframe\">\n  <thead>\n    <tr style=\"text-align: right;\">\n      <th></th>\n      <th>movieId</th>\n      <th>Action</th>\n      <th>Adventure</th>\n      <th>Animation</th>\n      <th>Children</th>\n      <th>Comedy</th>\n      <th>Crime</th>\n      <th>Documentary</th>\n      <th>Drama</th>\n      <th>Fantasy</th>\n      <th>...</th>\n      <th>Musical</th>\n      <th>Mystery</th>\n      <th>Romance</th>\n      <th>Sci-Fi</th>\n      <th>Thriller</th>\n      <th>War</th>\n      <th>Western</th>\n      <th>num_ratings</th>\n      <th>userId</th>\n      <th>rating</th>\n    </tr>\n  </thead>\n  <tbody>\n    <tr>\n      <th>0</th>\n      <td>1</td>\n      <td>0</td>\n      <td>1</td>\n      <td>1</td>\n      <td>1</td>\n      <td>1</td>\n      <td>0</td>\n      <td>0</td>\n      <td>0</td>\n      <td>1</td>\n      <td>...</td>\n      <td>0</td>\n      <td>0</td>\n      <td>0</td>\n      <td>0</td>\n      <td>0</td>\n      <td>0</td>\n      <td>0</td>\n      <td>68469.0</td>\n      <td>4</td>\n      <td>0.777778</td>\n    </tr>\n    <tr>\n      <th>1</th>\n      <td>1</td>\n      <td>0</td>\n      <td>1</td>\n      <td>1</td>\n      <td>1</td>\n      <td>1</td>\n      <td>0</td>\n      <td>0</td>\n      <td>0</td>\n      <td>1</td>\n      <td>...</td>\n      <td>0</td>\n      <td>0</td>\n      <td>0</td>\n      <td>0</td>\n      <td>0</td>\n      <td>0</td>\n      <td>0</td>\n      <td>68469.0</td>\n      <td>10</td>\n      <td>1.000000</td>\n    </tr>\n    <tr>\n      <th>2</th>\n      <td>1</td>\n      <td>0</td>\n      <td>1</td>\n      <td>1</td>\n      <td>1</td>\n      <td>1</td>\n      <td>0</td>\n      <td>0</td>\n      <td>0</td>\n      <td>1</td>\n      <td>...</td>\n      <td>0</td>\n      <td>0</td>\n      <td>0</td>\n      <td>0</td>\n      <td>0</td>\n      <td>0</td>\n      <td>0</td>\n      <td>68469.0</td>\n      <td>14</td>\n      <td>0.888889</td>\n    </tr>\n  </tbody>\n</table>\n<p>3 rows × 23 columns</p>\n</div>"
          },
          "execution_count": 9,
          "metadata": {},
          "output_type": "execute_result"
        }
      ],
      "source": [
        "scaler_columns = [\"rating\"]\n",
        "\n",
        "scaler = MinMaxScaler()\n",
        "scaler.fit(movie_rating_genres[scaler_columns])\n",
        "scaled_columns = scaler.transform(movie_rating_genres[scaler_columns])\n",
        "movie_rating_genres[scaler_columns] = scaled_columns\n",
        "\n",
        "movie_rating_genres.head(3)"
      ],
      "metadata": {
        "id": "0ed-qeowhMUt",
        "outputId": "8d4284a2-b282-434e-acef-a1cd6a41f321"
      }
    },
    {
      "cell_type": "markdown",
      "source": [
        "## Создание модели для рекомендаций"
      ],
      "metadata": {
        "id": "j9TU25jPkFBK"
      }
    },
    {
      "cell_type": "markdown",
      "source": [
        "### Импортируем необходимые библиотеки"
      ],
      "metadata": {
        "id": "gmOwjjdEkLBh"
      }
    },
    {
      "cell_type": "code",
      "execution_count": null,
      "metadata": {
        "id": "UaUtPODdhMUt"
      },
      "outputs": [],
      "source": [
        "import torch\n",
        "import torch.nn as nn\n",
        "\n",
        "from torch.utils.data import DataLoader, Dataset\n",
        "from tqdm.auto import tqdm"
      ]
    },
    {
      "cell_type": "markdown",
      "source": [
        "### Вводим константы и функции для удобства работы"
      ],
      "metadata": {
        "id": "2ef48ufQkQzL"
      }
    },
    {
      "cell_type": "code",
      "execution_count": null,
      "outputs": [],
      "source": [
        "BATCH_SIZE = 256\n",
        "LEARNING_RATE = 10 ** (-4)\n",
        "EPOCHS = 10\n",
        "EMBEDDING_SIZE = 10\n",
        "\n",
        "def _input_divider(batch: torch.Tensor) -> tuple[torch.Tensor, torch.Tensor, torch.Tensor, torch.Tensor]:\n",
        "    return batch[:, -1].cuda(), batch[:, 0].cuda(), batch[:, 1:-3].cuda(), batch[:, -2].cuda()"
      ],
      "metadata": {
        "id": "Zaot_vQfhMUt"
      }
    },
    {
      "cell_type": "markdown",
      "source": [
        "### Инициализируем класс для данных и целевой переменной\n",
        "Создаём экземпляр класса с нашими данными.\n"
      ],
      "metadata": {
        "id": "xC1z__LjkYW6"
      }
    },
    {
      "cell_type": "code",
      "execution_count": null,
      "metadata": {
        "id": "7oHvcOCahMUt"
      },
      "outputs": [],
      "source": [
        "class RatingsDataset(Dataset):\n",
        "    def __init__(self, X: torch.Tensor, y: torch.Tensor):\n",
        "        self.X = X\n",
        "        self.y = y\n",
        "\n",
        "    def __getitem__(self, index: int) -> tuple[torch.Tensor, torch.Tensor]:\n",
        "        return self.X[index], self.y[index]\n",
        "\n",
        "    def __len__(self) -> int:\n",
        "        return len(self.X)\n",
        "\n",
        "\n",
        "X = torch.tensor(movie_rating_genres.drop(columns=[\"rating\"]).values, dtype=torch.long)\n",
        "y = torch.tensor(movie_rating_genres.rating.values, dtype=torch.float)\n",
        "\n",
        "dataset = RatingsDataset(X, y)"
      ]
    },
    {
      "cell_type": "markdown",
      "source": [
        "### Создаём модель нейронной сети\n",
        "Я выбрал модель Collaborative Filter, так как этот метод способен отражать сложные и нелинейные отношения между пользователями и товарами и показывает хорошую эффективность при работе с большими наборами данных.\n",
        "\n",
        "Архитектура моей модели состоит из 3 слоёв, первый получает данные из сформированных Embedding, передаёт промежуточному слою, который в свою очередь передаёт их последнему. На выходе из 1 и 2 слоёв применяется функция ReLU, функция активации - sigmoid."
      ],
      "metadata": {
        "id": "5D7dWncLlj0I"
      }
    },
    {
      "cell_type": "code",
      "execution_count": null,
      "metadata": {
        "id": "6ePvjOkbhMUu"
      },
      "outputs": [],
      "source": [
        "class CFModel(nn.Module):\n",
        "    def __init__(self,\n",
        "                 num_users: int,\n",
        "                 num_movies: int,\n",
        "                 num_genres: int,\n",
        "                 num_counts: int,\n",
        "                 embedding_size: int = 32):\n",
        "        super().__init__()\n",
        "        self.user_embedding = nn.Embedding(num_users, embedding_size)\n",
        "        self.movie_embedding = nn.Embedding(num_movies, embedding_size)\n",
        "        self.genre_embedding = nn.Embedding(num_genres, embedding_size)\n",
        "        self.count_embedding = nn.Embedding(num_counts, embedding_size)\n",
        "        self.fc1 = nn.Linear(embedding_size * 4, 256)\n",
        "        self.fc2 = nn.Linear(256, 128)\n",
        "        self.output_layer = nn.Linear(128, 1)\n",
        "        self.activation = nn.Sigmoid()\n",
        "\n",
        "    def forward(self,\n",
        "                user_input: torch.Tensor,\n",
        "                movie_input: torch.Tensor,\n",
        "                genre_input: torch.Tensor,\n",
        "                ratings_input: torch.Tensor) -> torch.Tensor:\n",
        "        user_embedded = self.user_embedding(user_input)\n",
        "        movie_embedded = self.movie_embedding(movie_input)\n",
        "        genre_embedded = self.genre_embedding(genre_input)\n",
        "        rating_embedded = self.count_embedding(ratings_input)\n",
        "        genre_embedded = genre_embedded.mean(dim=1)\n",
        "        movie_genre_embedded = torch.cat([movie_embedded, genre_embedded], dim=1)\n",
        "        movie_genre_rating_embedded = torch.cat([movie_genre_embedded, rating_embedded], dim=1)\n",
        "        x = torch.cat([user_embedded, movie_genre_rating_embedded], dim=1)\n",
        "        x = self.fc1(x)\n",
        "        x = nn.ReLU()(x)\n",
        "        x = self.fc2(x)\n",
        "        x = nn.ReLU()(x)\n",
        "        x = self.output_layer(x)\n",
        "        x = self.activation(x)\n",
        "        return x"
      ]
    },
    {
      "cell_type": "markdown",
      "source": [
        "### Определяем маскимальные значения данных для embedding"
      ],
      "metadata": {
        "id": "5hPb04KInW25"
      }
    },
    {
      "cell_type": "code",
      "execution_count": null,
      "metadata": {
        "id": "vZlX8QyzhMUu",
        "outputId": "edd20608-efc5-48a9-f39e-5cacb64d4c71"
      },
      "outputs": [
        {
          "name": "stdout",
          "output_type": "stream",
          "text": [
            "User count: 283229\n",
            "Movie count: 193887\n",
            "Genre count: 20\n",
            "Ratings count: 98000\n"
          ]
        }
      ],
      "source": [
        "users_count = movie_rating_genres[\"userId\"].max() + 1\n",
        "movies_count = movie_rating_genres[\"movieId\"].max() + 1\n",
        "genres_count = unique_genres.size + 1\n",
        "ratings_count = int(movie_rating_genres[\"num_ratings\"].max()) + 1\n",
        "\n",
        "print(f\"User count: {users_count}\\n\"\n",
        "      f\"Movie count: {movies_count}\\n\"\n",
        "      f\"Genre count: {genres_count}\\n\"\n",
        "      f\"Ratings count: {ratings_count}\")"
      ]
    },
    {
      "cell_type": "markdown",
      "source": [
        "## Тренировка модели"
      ],
      "metadata": {
        "id": "7jYtWXeBnfNz"
      }
    },
    {
      "cell_type": "markdown",
      "source": [
        "### Проверяем доступность устройства cuda для обучения"
      ],
      "metadata": {
        "id": "xkakrGzsnh5N"
      }
    },
    {
      "cell_type": "code",
      "execution_count": null,
      "metadata": {
        "id": "vw0mRB7DhMUu",
        "outputId": "ef916bb7-44ee-4189-9706-ddc6510a20b2"
      },
      "outputs": [
        {
          "name": "stdout",
          "output_type": "stream",
          "text": [
            "True\n"
          ]
        }
      ],
      "source": [
        "print(torch.cuda.is_available())\n",
        "torch.cuda.synchronize()"
      ]
    },
    {
      "cell_type": "markdown",
      "source": [
        "### Создаём экземпляр модели\n",
        "Выбрана функция потерь MSE, т.к. это простая и эффективная функция потерь, которую легко вычислить и понять.\n",
        "Выбран оптимизатор Adam, т.к. он хорошо подходит для больших наборов данных и высокоразмерных пространств параметров. Он эффективен в вычислениях и требует относительно мало памяти, что делает его популярным выбором для приложений глубокого обучения."
      ],
      "metadata": {
        "id": "q0XvDQDfnnZf"
      }
    },
    {
      "cell_type": "code",
      "execution_count": null,
      "metadata": {
        "id": "uQoq0W0lhMUu"
      },
      "outputs": [],
      "source": [
        "model = CFModel(users_count, movies_count, genres_count, ratings_count, embedding_size=EMBEDDING_SIZE)\n",
        "model.cuda()\n",
        "model.train()\n",
        "\n",
        "criterion = nn.MSELoss()\n",
        "optimizer = torch.optim.Adam(model.parameters(), lr=LEARNING_RATE)"
      ]
    },
    {
      "cell_type": "markdown",
      "source": [
        "### Создаём train, test, validation датасеты \n",
        "Пропорции 60% - 20% - 20%"
      ],
      "metadata": {
        "id": "QNdefozCoUEJ"
      }
    },
    {
      "cell_type": "code",
      "execution_count": null,
      "metadata": {
        "id": "8FNYij78hMUu"
      },
      "outputs": [],
      "source": [
        "train_size = int(0.6 * len(dataset))\n",
        "val_size = int(0.2 * len(dataset))\n",
        "test_size = len(dataset) - train_size - val_size\n",
        "\n",
        "train_data, val_data, test_data = torch.utils.data.random_split(dataset, [train_size, val_size, test_size])\n",
        "train_loader = DataLoader(train_data, batch_size=BATCH_SIZE, shuffle=True)\n",
        "val_loader = DataLoader(val_data, batch_size=BATCH_SIZE, shuffle=False)\n",
        "test_loader = DataLoader(test_data, batch_size=BATCH_SIZE, shuffle=False)"
      ]
    },
    {
      "cell_type": "markdown",
      "source": [
        "### Обучаем модель, используя validation для улучшения параметров модели"
      ],
      "metadata": {
        "id": "u5ACmSPWopCA"
      }
    },
    {
      "cell_type": "code",
      "execution_count": null,
      "metadata": {
        "colab": {
          "referenced_widgets": [
            "de4762473f51461fbe575a0b74580e3c",
            "f25cbff408744608b5eda15447299e27"
          ]
        },
        "id": "D1sR45ephMUv",
        "outputId": "b19e7e0d-afac-4f08-8b21-f203859092cf"
      },
      "outputs": [
        {
          "data": {
            "text/plain": "  0%|          | 0/10 [00:00<?, ?it/s]",
            "application/vnd.jupyter.widget-view+json": {
              "version_major": 2,
              "version_minor": 0,
              "model_id": "f25cbff408744608b5eda15447299e27"
            }
          },
          "metadata": {},
          "output_type": "display_data"
        },
        {
          "name": "stdout",
          "output_type": "stream",
          "text": [
            "Epoch [1/10], Validation Loss: 0.00036\n",
            "Epoch [2/10], Validation Loss: 0.00034\n",
            "Epoch [3/10], Validation Loss: 0.00033\n",
            "Epoch [4/10], Validation Loss: 0.00031\n",
            "Epoch [5/10], Validation Loss: 0.00031\n",
            "Epoch [6/10], Validation Loss: 0.00031\n",
            "Epoch [7/10], Validation Loss: 0.00030\n",
            "Epoch [8/10], Validation Loss: 0.00030\n",
            "Epoch [9/10], Validation Loss: 0.00030\n",
            "Epoch [10/10], Validation Loss: 0.00030\n"
          ]
        }
      ],
      "source": [
        "train_losses = np.array([])\n",
        "val_losses = np.array([])\n",
        "\n",
        "for epoch in tqdm(range(EPOCHS)):\n",
        "    for batch in train_loader:\n",
        "        ratings_input = batch[1].cuda()\n",
        "        outputs = model(*_input_divider(batch[0]))\n",
        "        loss = criterion(outputs.squeeze(), ratings_input)\n",
        "        optimizer.zero_grad()\n",
        "        loss.backward()\n",
        "        optimizer.step()\n",
        "\n",
        "    train_losses = np.append(train_losses, loss.item())\n",
        "    with torch.no_grad():\n",
        "        val_loss = 0.0\n",
        "        for batch in val_loader:\n",
        "            ratings_input = batch[1].cuda()\n",
        "            outputs = model(*_input_divider(batch[0]))\n",
        "            batch_loss = criterion(outputs.squeeze(), ratings_input)\n",
        "            val_loss += batch_loss.item() * len(batch)\n",
        "\n",
        "        val_loss /= len(val_data)\n",
        "        val_losses = np.append(val_losses, val_loss)\n",
        "        print(\"Epoch [{}/{}], Validation Loss: {:.5f}\".format(epoch + 1, EPOCHS, val_loss))"
      ]
    },
    {
      "cell_type": "markdown",
      "source": [
        "### Построим график Train/Val loss от Epoch"
      ],
      "metadata": {
        "id": "vrfxvu4qo5rL"
      }
    },
    {
      "cell_type": "code",
      "execution_count": null,
      "metadata": {
        "id": "FqbeCtK1hMUv",
        "outputId": "26344d11-adf4-4112-80d8-41e34f5a7be9"
      },
      "outputs": [
        {
          "data": {
            "text/plain": "<Figure size 640x480 with 1 Axes>",
            "image/png": "[encoded data removed]"
          },
          "metadata": {},
          "output_type": "display_data"
        }
      ],
      "source": [
        "plt.plot(train_losses, label=\"Training loss\")\n",
        "plt.plot(val_losses, label=\"Validation loss\")\n",
        "plt.legend()\n",
        "plt.xticks(np.arange(0, EPOCHS, 1))\n",
        "plt.show()"
      ]
    },
    {
      "cell_type": "markdown",
      "source": [
        "## Тестирование модели"
      ],
      "metadata": {
        "id": "edY_v1nipwKl"
      }
    },
    {
      "cell_type": "markdown",
      "source": [
        "### Попробуем полученную модель на test выборке"
      ],
      "metadata": {
        "id": "4IDuPImYpCHC"
      }
    },
    {
      "cell_type": "code",
      "execution_count": null,
      "metadata": {
        "id": "CcI68-lIhMUv",
        "outputId": "26f9a14e-16f9-48d2-f718-774c0ad3a94b"
      },
      "outputs": [
        {
          "name": "stdout",
          "output_type": "stream",
          "text": [
            "Test Loss: 0.0381\n"
          ]
        }
      ],
      "source": [
        "predicted_ratings = np.array([])\n",
        "\n",
        "model.eval()\n",
        "with torch.no_grad():\n",
        "    test_loss = 0\n",
        "    for batch in test_loader:\n",
        "        ratings_input = batch[1].cuda()\n",
        "        outputs = model(*_input_divider(batch[0]))\n",
        "        test_loss += criterion(outputs.squeeze(), ratings_input).item() * ratings_input.shape[0]\n",
        "        predicted_ratings = np.concatenate((predicted_ratings, outputs.cpu().numpy().flatten()))\n",
        "\n",
        "    test_loss /= len(test_data)\n",
        "    print(\"Test Loss: {:.4f}\".format(test_loss))"
      ]
    },
    {
      "cell_type": "markdown",
      "source": [
        "### Рассмотрим результаты в виде таблицы "
      ],
      "metadata": {
        "id": "vrp6A-6RpGkC"
      }
    },
    {
      "cell_type": "code",
      "execution_count": null,
      "metadata": {
        "id": "zbnsXU3UhMUv",
        "outputId": "f4798ce8-f05c-409e-e7c9-e50ed0cf2e12"
      },
      "outputs": [
        {
          "data": {
            "text/plain": "   user_id  movie_id  rating  predicted_rating\n0     8360    175370     5.0          3.905040\n1     7160     22692     4.5          3.284849\n2     1729    101905     5.0          4.158111\n3     1422    204911     4.0          3.339553\n4       19    144004     2.0          3.434561\n5      247    112790     4.0          3.613738\n6    61240     24937     3.0          3.799220\n7     3536    188245     4.0          3.984500\n8     4054    276188     1.0          3.079964\n9    62644    137522     4.5          4.181160",
            "text/html": "<div>\n<style scoped>\n    .dataframe tbody tr th:only-of-type {\n        vertical-align: middle;\n    }\n\n    .dataframe tbody tr th {\n        vertical-align: top;\n    }\n\n    .dataframe thead th {\n        text-align: right;\n    }\n</style>\n<table border=\"1\" class=\"dataframe\">\n  <thead>\n    <tr style=\"text-align: right;\">\n      <th></th>\n      <th>user_id</th>\n      <th>movie_id</th>\n      <th>rating</th>\n      <th>predicted_rating</th>\n    </tr>\n  </thead>\n  <tbody>\n    <tr>\n      <th>0</th>\n      <td>8360</td>\n      <td>175370</td>\n      <td>5.0</td>\n      <td>3.905040</td>\n    </tr>\n    <tr>\n      <th>1</th>\n      <td>7160</td>\n      <td>22692</td>\n      <td>4.5</td>\n      <td>3.284849</td>\n    </tr>\n    <tr>\n      <th>2</th>\n      <td>1729</td>\n      <td>101905</td>\n      <td>5.0</td>\n      <td>4.158111</td>\n    </tr>\n    <tr>\n      <th>3</th>\n      <td>1422</td>\n      <td>204911</td>\n      <td>4.0</td>\n      <td>3.339553</td>\n    </tr>\n    <tr>\n      <th>4</th>\n      <td>19</td>\n      <td>144004</td>\n      <td>2.0</td>\n      <td>3.434561</td>\n    </tr>\n    <tr>\n      <th>5</th>\n      <td>247</td>\n      <td>112790</td>\n      <td>4.0</td>\n      <td>3.613738</td>\n    </tr>\n    <tr>\n      <th>6</th>\n      <td>61240</td>\n      <td>24937</td>\n      <td>3.0</td>\n      <td>3.799220</td>\n    </tr>\n    <tr>\n      <th>7</th>\n      <td>3536</td>\n      <td>188245</td>\n      <td>4.0</td>\n      <td>3.984500</td>\n    </tr>\n    <tr>\n      <th>8</th>\n      <td>4054</td>\n      <td>276188</td>\n      <td>1.0</td>\n      <td>3.079964</td>\n    </tr>\n    <tr>\n      <th>9</th>\n      <td>62644</td>\n      <td>137522</td>\n      <td>4.5</td>\n      <td>4.181160</td>\n    </tr>\n  </tbody>\n</table>\n</div>"
          },
          "execution_count": 21,
          "metadata": {},
          "output_type": "execute_result"
        }
      ],
      "source": [
        "test_df = pd.DataFrame({\n",
        "    \"user_id\": [dataset[idx][0][0].item() for idx in test_data.indices],\n",
        "    \"movie_id\": [dataset[idx][0][-1].item() for idx in test_data.indices],\n",
        "    \"rating\": [dataset[idx][1].item() for idx in test_data.indices],\n",
        "    \"predicted_rating\": predicted_ratings\n",
        "})\n",
        "\n",
        "inverse_columns = [\"rating\", \"predicted_rating\"]\n",
        "test_df[inverse_columns] = scaler.inverse_transform(test_df[inverse_columns])\n",
        "test_df.head(10)"
      ]
    },
    {
      "cell_type": "markdown",
      "source": [
        "### Реализуем функции для создания рекомендации пользователю\n",
        "Вторая функция служит для представления результата в виде таблицы."
      ],
      "metadata": {
        "id": "mHtxpmhMpRYr"
      }
    },
    {
      "cell_type": "code",
      "execution_count": null,
      "metadata": {
        "id": "V875n_NPhMUv"
      },
      "outputs": [],
      "source": [
        "def recommend_unwatched_movies(ratings: pd.DataFrame,\n",
        "                               user_id: int, n: int = 5) -> list[tuple[int, float]]:\n",
        "\n",
        "    all_movie_ids = torch.tensor(ratings.movieId.unique())\n",
        "    rated_movie_ids = torch.tensor(ratings[ratings.userId == user_id].movieId.values)\n",
        "    unwatched_movie_ids = np.setdiff1d(all_movie_ids, rated_movie_ids)\n",
        "    unwatched_movies = movie_genres[movie_genres.movieId.isin(unwatched_movie_ids)]\n",
        "    unwatched_movies[\"userId\"] = user_id\n",
        "    user_unwatched_movies = torch.tensor(unwatched_movies.values, dtype=torch.long)\n",
        "    unwatched_movie_loader = DataLoader(user_unwatched_movies, batch_size=64, shuffle=False)\n",
        "\n",
        "    predicted_ratings = []\n",
        "    with torch.no_grad():\n",
        "        for batch in unwatched_movie_loader:\n",
        "            outputs = model(*_input_divider(batch))\n",
        "            predicted_ratings.extend(outputs.cpu().squeeze().tolist())\n",
        "\n",
        "    movie_ratings = {}\n",
        "    for i in range(len(unwatched_movie_ids)):\n",
        "        movie_ratings[unwatched_movie_ids[i]] = predicted_ratings[i]\n",
        "\n",
        "    movie_ratings_sorted = dict(sorted(movie_ratings.items(), key=lambda item: item[1], reverse=True))\n",
        "    return list(movie_ratings_sorted.items())[:n]\n",
        "\n",
        "def format_recommendations(recommendations: list[tuple[int, float]], \n",
        "                           movies_df: pd.DataFrame, scaler) -> pd.DataFrame:\n",
        "                           \n",
        "    rec_df = pd.DataFrame(recommendations, columns=['movieId', 'rating'])\n",
        "    rec_df = pd.merge(rec_df, movies_df, on='movieId')\n",
        "    rec_df[[\"rating\"]] = scaler.inverse_transform(rec_df[[\"rating\"]])\n",
        "    return rec_df[['movieId', 'title', 'genres', 'rating']]"
      ]
    },
    {
      "cell_type": "markdown",
      "source": [
        "### Рекомендация"
      ],
      "metadata": {
        "id": "XRZVA4MwpzKu"
      }
    },
    {
      "cell_type": "code",
      "execution_count": null,
      "metadata": {
        "id": "6BMG9OpfhMUw",
        "outputId": "5082beac-dcaf-4639-ff87-7a94cb056a9a"
      },
      "outputs": [
        {
          "data": {
            "text/plain": "   movieId                                 title   \n0   159817                   Planet Earth (2006)  \\\n1   170705               Band of Brothers (2001)   \n2   171011                Planet Earth II (2016)   \n3   174053  Black Mirror: White Christmas (2014)   \n4    26082             Harakiri (Seppuku) (1962)   \n\n                                 genres    rating  \n0                           Documentary  4.230767  \n1                      Action|Drama|War  4.198526  \n2                           Documentary  4.168451  \n3  Drama|Horror|Mystery|Sci-Fi|Thriller  4.081825  \n4                                 Drama  4.057907  ",
            "text/html": "<div>\n<style scoped>\n    .dataframe tbody tr th:only-of-type {\n        vertical-align: middle;\n    }\n\n    .dataframe tbody tr th {\n        vertical-align: top;\n    }\n\n    .dataframe thead th {\n        text-align: right;\n    }\n</style>\n<table border=\"1\" class=\"dataframe\">\n  <thead>\n    <tr style=\"text-align: right;\">\n      <th></th>\n      <th>movieId</th>\n      <th>title</th>\n      <th>genres</th>\n      <th>rating</th>\n    </tr>\n  </thead>\n  <tbody>\n    <tr>\n      <th>0</th>\n      <td>159817</td>\n      <td>Planet Earth (2006)</td>\n      <td>Documentary</td>\n      <td>4.230767</td>\n    </tr>\n    <tr>\n      <th>1</th>\n      <td>170705</td>\n      <td>Band of Brothers (2001)</td>\n      <td>Action|Drama|War</td>\n      <td>4.198526</td>\n    </tr>\n    <tr>\n      <th>2</th>\n      <td>171011</td>\n      <td>Planet Earth II (2016)</td>\n      <td>Documentary</td>\n      <td>4.168451</td>\n    </tr>\n    <tr>\n      <th>3</th>\n      <td>174053</td>\n      <td>Black Mirror: White Christmas (2014)</td>\n      <td>Drama|Horror|Mystery|Sci-Fi|Thriller</td>\n      <td>4.081825</td>\n    </tr>\n    <tr>\n      <th>4</th>\n      <td>26082</td>\n      <td>Harakiri (Seppuku) (1962)</td>\n      <td>Drama</td>\n      <td>4.057907</td>\n    </tr>\n  </tbody>\n</table>\n</div>"
          },
          "execution_count": 23,
          "metadata": {},
          "output_type": "execute_result"
        }
      ],
      "source": [
        "recommendations = recommend_unwatched_movies(ratings, 150, 5)\n",
        "rec_df = format_recommendations(recommendations, movies, scaler)\n",
        "\n",
        "rec_df"
      ]
    },
    {
      "cell_type": "markdown",
      "source": [
        "### Сохраняем модель, чтобы использовать в сервисе с API"
      ],
      "metadata": {
        "collapsed": false,
        "id": "3QxvllPPBefc"
      }
    },
    {
      "cell_type": "code",
      "execution_count": null,
      "outputs": [],
      "source": [
        "torch.save(model.state_dict(), \"cfmodel.pth\")"
      ],
      "metadata": {
        "id": "2lRPenGyBefd"
      }
    },
    {
      "cell_type": "markdown",
      "source": [
        "## Выводы по работе\n",
        "Я считаю, что результаты проделанной работы можно считать успешными. \n",
        "\n",
        "На тестовой выборке невооружённым глазом видно корреляцию между реальным рейтингом и предсказанным, так что в контексте актуальной рекомендации модель справляется хорошо. Кроме того, test loss = 0.038.\n",
        "\n",
        "В ходе тестирования функции рекомендации также можно увидеть положительный результат. Конечно, умозрительно оценить актуальность предложенного фильма из непросмотренных пользователем довольно трудно, но, как минимум, видно, что фильмы в ответе сложи между собой по тематике (Планета Земля 1 и 2 части), а также каждый из них в реальности высоко оценён большим количеством пользователей (средняя оценка на kinopoisk у предложенных пользователю фильмов ~8.5/10).\n",
        "\n",
        "## Возможные улучшения\n",
        "- [ ] Добавление данных о пользователях (пол, возраст, предпочитаемые жанры...)\n",
        "- [ ] Более тщательная настройка гиперпараметров модели, количества слоёв, функций активации\n",
        "- [ ] Подбор оптимальных функции потерь и оптимизатора\n",
        "- [ ] Увеличение количества эпох (*может привести к переобучению!*)"
      ],
      "metadata": {
        "id": "uxaCQpe_CDQk"
      }
    }
  ],
  "metadata": {
    "kernelspec": {
      "display_name": "Python 3 (ipykernel)",
      "language": "python",
      "name": "python3"
    },
    "language_info": {
      "codemirror_mode": {
        "name": "ipython",
        "version": 3
      },
      "file_extension": ".py",
      "mimetype": "text/x-python",
      "name": "python",
      "nbconvert_exporter": "python",
      "pygments_lexer": "ipython3",
      "version": "3.10.11"
    },
    "colab": {
      "provenance": [],
      "toc_visible": true
    }
  },
  "nbformat": 4,
  "nbformat_minor": 0
}